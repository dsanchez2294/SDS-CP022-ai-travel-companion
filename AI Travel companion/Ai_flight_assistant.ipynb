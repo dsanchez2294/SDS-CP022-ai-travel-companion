{
 "cells": [
  {
   "cell_type": "code",
   "execution_count": 25,
   "metadata": {},
   "outputs": [],
   "source": [
    "import requests\n",
    "\n",
    "\n",
    "# Replace with your API details\n",
    "\n",
    "API_URL = \"https://serpapi.com/search.json?engine=google_flights&departure_id=PEK&arrival_id=AUS&outbound_date=2025-01-26&return_date=2025-02-01&currency=USD&hl=en\"\n",
    "API_KEY = \"35d60f56a6cc6877a4a6c3a6269ac5f7568c1473fb2653045b78d28510c008ef\"\n"
   ]
  },
  {
   "cell_type": "code",
   "execution_count": 26,
   "metadata": {},
   "outputs": [],
   "source": [
    "def get_flight_data(origin, destination, start_date, end_date):\n",
    "    params = {\n",
    "        \"engine\": \"google_flights\",\n",
    "        \"departure_id\": origin,\n",
    "        \"arrival_id\": destination,\n",
    "        \"outbound_date\": start_date,\n",
    "        \"return_date\": end_date,\n",
    "        \"currency\": \"USD\",\n",
    "        \"hl\": \"es\",\n",
    "        \"api_key\": API_KEY\n",
    "    }   \n",
    "    response = requests.get(API_URL, params=params)\n",
    "    if response.status_code == 200:\n",
    "        return response.json()  # Adjust for your API's response format\n",
    "    else:\n",
    "        print(f\"Error: {response.status_code}, {response.text}\")\n",
    "        return None"
   ]
  },
  {
   "cell_type": "code",
   "execution_count": 27,
   "metadata": {},
   "outputs": [],
   "source": [
    "# Example usage\n",
    "origin = \"JFK\"\n",
    "destination = \"LHR\"\n",
    "start_date = \"2025-02-01\"\n",
    "end_date = \"2025-02-28\""
   ]
  },
  {
   "cell_type": "code",
   "execution_count": 28,
   "metadata": {},
   "outputs": [],
   "source": [
    "flight_data = get_flight_data(origin, destination, start_date, end_date)"
   ]
  },
  {
   "cell_type": "code",
   "execution_count": 33,
   "metadata": {},
   "outputs": [
    {
     "name": "stdout",
     "output_type": "stream",
     "text": [
      "{'search_metadata': {'id': '67956fd1931dfadaea1ec5b6', 'status': 'Success', 'json_endpoint': 'https://serpapi.com/searches/418936862d598096/67956fd1931dfadaea1ec5b6.json', 'created_at': '2025-01-25 23:12:17 UTC', 'processed_at': '2025-01-25 23:12:17 UTC', 'google_flights_url': 'https://www.google.com/travel/flights?hl=es&gl=us&curr=USD&tfs=CBwQAhoeEgoyMDI1LTAyLTAxagcIARIDUEVLcgcIARIDTEhSGh4SCjIwMjUtMDItMjhqBwgBEgNMSFJyBwgBEgNQRUtCAQFIAXABmAEB&tfu=EgIIAQ', 'raw_html_file': 'https://serpapi.com/searches/418936862d598096/67956fd1931dfadaea1ec5b6.html', 'prettify_html_file': 'https://serpapi.com/searches/418936862d598096/67956fd1931dfadaea1ec5b6.prettify', 'total_time_taken': 9.67}, 'search_parameters': {'engine': 'google_flights', 'hl': 'es', 'gl': 'us', 'departure_id': 'PEK', 'arrival_id': 'LHR', 'outbound_date': '2025-02-01', 'return_date': '2025-02-28', 'currency': 'USD'}, 'best_flights': [{'flights': [{'departure_airport': {'name': 'Aeropuerto Internacional de Pekín', 'id': 'PEK', 'time': '2025-02-01 11:50'}, 'arrival_airport': {'name': 'Amsterdam Airport Schiphol', 'id': 'AMS', 'time': '2025-02-01 17:20'}, 'duration': 750, 'airplane': 'Boeing 787', 'airline': 'KLM', 'airline_logo': 'https://www.gstatic.com/flights/airline_logos/70px/KL.png', 'travel_class': 'Economy', 'flight_number': 'KL 898', 'legroom': '79 cm', 'extensions': ['Average legroom (79 cm)', 'Wi-Fi for a fee', 'In-seat power & USB outlets', 'On-demand video', 'Carbon emissions estimate: 420 kg']}, {'departure_airport': {'name': 'Amsterdam Airport Schiphol', 'id': 'AMS', 'time': '2025-02-01 20:30'}, 'arrival_airport': {'name': 'Aeropuerto de Londres-Heathrow', 'id': 'LHR', 'time': '2025-02-01 20:50'}, 'duration': 80, 'airplane': 'Boeing 737', 'airline': 'KLM', 'airline_logo': 'https://www.gstatic.com/flights/airline_logos/70px/KL.png', 'travel_class': 'Economy', 'flight_number': 'KL 1017', 'legroom': '76 cm', 'extensions': ['Average legroom (76 cm)', 'Carbon emissions estimate: 55 kg']}], 'layovers': [{'duration': 190, 'name': 'Amsterdam Airport Schiphol', 'id': 'AMS'}], 'total_duration': 1020, 'carbon_emissions': {'this_flight': 476000, 'typical_for_this_route': 552000, 'difference_percent': -14}, 'price': 714, 'type': 'Round trip', 'airline_logo': 'https://www.gstatic.com/flights/airline_logos/70px/KL.png', 'departure_token': 'WyJDalJJUjI4MmFGQlZiMFZLTTBsQlJXSkllVUZDUnkwdExTMHRMUzB0TFhaMGJtTXhPRUZCUVVGQlIyVldZamxaU1Znd1JHRkJFZ3hMVERnNU9IeExUREV3TVRjYUN3aWZyUVFRQWhvRFZWTkVPQnh3bjYwRSIsW1siUEVLIiwiMjAyNS0wMi0wMSIsIkFNUyIsbnVsbCwiS0wiLCI4OTgiXSxbIkFNUyIsIjIwMjUtMDItMDEiLCJMSFIiLG51bGwsIktMIiwiMTAxNyJdXV0='}, {'flights': [{'departure_airport': {'name': 'Aeropuerto Internacional de Pekín', 'id': 'PEK', 'time': '2025-02-01 23:55'}, 'arrival_airport': {'name': 'Aeropuerto de París-Charles de Gaulle', 'id': 'CDG', 'time': '2025-02-02 05:55'}, 'duration': 780, 'airplane': 'Boeing 787', 'airline': 'Air France', 'airline_logo': 'https://www.gstatic.com/flights/airline_logos/70px/AF.png', 'travel_class': 'Economy', 'flight_number': 'AF 381', 'legroom': '79 cm', 'extensions': ['Average legroom (79 cm)', 'Wi-Fi for a fee', 'In-seat power & USB outlets', 'On-demand video', 'Carbon emissions estimate: 437 kg'], 'overnight': True}, {'departure_airport': {'name': 'Aeropuerto de París-Charles de Gaulle', 'id': 'CDG', 'time': '2025-02-02 10:00'}, 'arrival_airport': {'name': 'Aeropuerto de Londres-Heathrow', 'id': 'LHR', 'time': '2025-02-02 10:30'}, 'duration': 90, 'airplane': 'Airbus A220-300 Passenger', 'airline': 'Air France', 'airline_logo': 'https://www.gstatic.com/flights/airline_logos/70px/AF.png', 'travel_class': 'Economy', 'flight_number': 'AF 1580', 'legroom': '76 cm', 'extensions': ['Average legroom (76 cm)', 'Wi-Fi for a fee', 'In-seat USB outlet', 'Carbon emissions estimate: 54 kg']}], 'layovers': [{'duration': 245, 'name': 'Aeropuerto de París-Charles de Gaulle', 'id': 'CDG'}], 'total_duration': 1115, 'carbon_emissions': {'this_flight': 492000, 'typical_for_this_route': 552000, 'difference_percent': -11}, 'price': 885, 'type': 'Round trip', 'airline_logo': 'https://www.gstatic.com/flights/airline_logos/70px/AF.png', 'departure_token': 'WyJDalJJUjI4MmFGQlZiMFZLTTBsQlJXSkllVUZDUnkwdExTMHRMUzB0TFhaMGJtTXhPRUZCUVVGQlIyVldZamxaU1Znd1JHRkJFZ3hCUmpNNE1YeEJSakUxT0RBYUN3aVlzd1VRQWhvRFZWTkVPQnh3bUxNRiIsW1siUEVLIiwiMjAyNS0wMi0wMSIsIkNERyIsbnVsbCwiQUYiLCIzODEiXSxbIkNERyIsIjIwMjUtMDItMDIiLCJMSFIiLG51bGwsIkFGIiwiMTU4MCJdXV0='}, {'flights': [{'departure_airport': {'name': 'Aeropuerto Internacional de Pekín', 'id': 'PEK', 'time': '2025-02-01 00:45'}, 'arrival_airport': {'name': 'Aeropuerto de Estambul', 'id': 'IST', 'time': '2025-02-01 06:20'}, 'duration': 635, 'airplane': 'Boeing 777', 'airline': 'Turkish Airlines', 'airline_logo': 'https://www.gstatic.com/flights/airline_logos/70px/TK.png', 'travel_class': 'Economy', 'flight_number': 'TK 89', 'legroom': '79 cm', 'extensions': ['Average legroom (79 cm)', 'Wi-Fi for a fee', 'In-seat power & USB outlets', 'On-demand video', 'Carbon emissions estimate: 523 kg'], 'overnight': True}, {'departure_airport': {'name': 'Aeropuerto de Estambul', 'id': 'IST', 'time': '2025-02-01 08:40'}, 'arrival_airport': {'name': 'Aeropuerto de Londres-Heathrow', 'id': 'LHR', 'time': '2025-02-01 09:55'}, 'duration': 255, 'airplane': 'Boeing 777', 'airline': 'Turkish Airlines', 'airline_logo': 'https://www.gstatic.com/flights/airline_logos/70px/TK.png', 'travel_class': 'Economy', 'flight_number': 'TK 1979', 'legroom': '79 cm', 'extensions': ['Average legroom (79 cm)', 'Wi-Fi for a fee', 'In-seat power & USB outlets', 'On-demand video', 'Carbon emissions estimate: 227 kg'], 'often_delayed_by_over_30_min': True}], 'layovers': [{'duration': 140, 'name': 'Aeropuerto de Estambul', 'id': 'IST'}], 'total_duration': 1030, 'carbon_emissions': {'this_flight': 750000, 'typical_for_this_route': 552000, 'difference_percent': 36}, 'price': 944, 'type': 'Round trip', 'airline_logo': 'https://www.gstatic.com/flights/airline_logos/70px/TK.png', 'departure_token': 'WyJDalJJUjI4MmFGQlZiMFZLTTBsQlJXSkllVUZDUnkwdExTMHRMUzB0TFhaMGJtTXhPRUZCUVVGQlIyVldZamxaU1Znd1JHRkJFZ3RVU3pnNWZGUkxNVGszT1JvTENKSGhCUkFDR2dOVlUwUTRISENSNFFVPSIsW1siUEVLIiwiMjAyNS0wMi0wMSIsIklTVCIsbnVsbCwiVEsiLCI4OSJdLFsiSVNUIiwiMjAyNS0wMi0wMSIsIkxIUiIsbnVsbCwiVEsiLCIxOTc5Il1dXQ=='}, {'flights': [{'departure_airport': {'name': 'Aeropuerto Internacional de Pekín', 'id': 'PEK', 'time': '2025-02-01 23:55'}, 'arrival_airport': {'name': 'Aeropuerto de París-Charles de Gaulle', 'id': 'CDG', 'time': '2025-02-02 05:55'}, 'duration': 780, 'airplane': 'Boeing 787', 'airline': 'Air France', 'airline_logo': 'https://www.gstatic.com/flights/airline_logos/70px/AF.png', 'travel_class': 'Economy', 'flight_number': 'AF 381', 'legroom': '79 cm', 'extensions': ['Average legroom (79 cm)', 'Wi-Fi for a fee', 'In-seat power & USB outlets', 'On-demand video', 'Carbon emissions estimate: 437 kg'], 'overnight': True}, {'departure_airport': {'name': 'Aeropuerto de París-Charles de Gaulle', 'id': 'CDG', 'time': '2025-02-02 07:35'}, 'arrival_airport': {'name': 'Aeropuerto de Londres-Heathrow', 'id': 'LHR', 'time': '2025-02-02 08:00'}, 'duration': 85, 'airplane': 'Airbus A220-300 Passenger', 'airline': 'Air France', 'airline_logo': 'https://www.gstatic.com/flights/airline_logos/70px/AF.png', 'travel_class': 'Economy', 'flight_number': 'AF 1680', 'legroom': '76 cm', 'extensions': ['Average legroom (76 cm)', 'Wi-Fi for a fee', 'In-seat USB outlet', 'Carbon emissions estimate: 54 kg']}], 'layovers': [{'duration': 100, 'name': 'Aeropuerto de París-Charles de Gaulle', 'id': 'CDG'}], 'total_duration': 965, 'carbon_emissions': {'this_flight': 492000, 'typical_for_this_route': 552000, 'difference_percent': -11}, 'price': 961, 'type': 'Round trip', 'airline_logo': 'https://www.gstatic.com/flights/airline_logos/70px/AF.png', 'departure_token': 'WyJDalJJUjI4MmFGQlZiMFZLTTBsQlJXSkllVUZDUnkwdExTMHRMUzB0TFhaMGJtTXhPRUZCUVVGQlIyVldZamxaU1Znd1JHRkJFZ3hCUmpNNE1YeEJSakUyT0RBYUN3akE3Z1VRQWhvRFZWTkVPQnh3d080RiIsW1siUEVLIiwiMjAyNS0wMi0wMSIsIkNERyIsbnVsbCwiQUYiLCIzODEiXSxbIkNERyIsIjIwMjUtMDItMDIiLCJMSFIiLG51bGwsIkFGIiwiMTY4MCJdXV0='}], 'other_flights': [{'flights': [{'departure_airport': {'name': 'Aeropuerto Internacional de Pekín', 'id': 'PEK', 'time': '2025-02-01 14:00'}, 'arrival_airport': {'name': 'Aeropuerto de Fráncfort del Meno', 'id': 'FRA', 'time': '2025-02-01 17:15'}, 'duration': 615, 'airplane': 'Boeing 777', 'airline': 'Air China', 'airline_logo': 'https://www.gstatic.com/flights/airline_logos/70px/CA.png', 'travel_class': 'Economy', 'flight_number': 'CA 931', 'ticket_also_sold_by': ['Lufthansa'], 'legroom': '81 cm', 'extensions': ['Above average legroom (81 cm)', 'In-seat power outlet', 'On-demand video', 'Carbon emissions estimate: 552 kg'], 'often_delayed_by_over_30_min': True}, {'departure_airport': {'name': 'Aeropuerto de Fráncfort del Meno', 'id': 'FRA', 'time': '2025-02-01 20:00'}, 'arrival_airport': {'name': 'Aeropuerto de Londres-Heathrow', 'id': 'LHR', 'time': '2025-02-01 20:45'}, 'duration': 105, 'airplane': 'Airbus A320neo', 'airline': 'Lufthansa', 'airline_logo': 'https://www.gstatic.com/flights/airline_logos/70px/LH.png', 'travel_class': 'Economy', 'flight_number': 'LH 920', 'legroom': '74 cm', 'extensions': ['Below average legroom (74 cm)', 'In-seat USB outlet', 'Carbon emissions estimate: 70 kg']}], 'layovers': [{'duration': 165, 'name': 'Aeropuerto de Fráncfort del Meno', 'id': 'FRA'}], 'total_duration': 885, 'carbon_emissions': {'this_flight': 622000, 'typical_for_this_route': 552000, 'difference_percent': 13}, 'price': 1662, 'type': 'Round trip', 'airline_logo': 'https://www.gstatic.com/flights/airline_logos/70px/multi.png', 'departure_token': 'WyJDalJJUjI4MmFGQlZiMFZLTTBsQlJXSkllVUZDUnkwdExTMHRMUzB0TFhaMGJtTXhPRUZCUVVGQlIyVldZamxaU1Znd1JHRkJFZ3REUVRrek1YeE1TRGt5TUJvTENLNlNDaEFDR2dOVlUwUTRISEN1a2dvPSIsW1siUEVLIiwiMjAyNS0wMi0wMSIsIkZSQSIsbnVsbCwiQ0EiLCI5MzEiXSxbIkZSQSIsIjIwMjUtMDItMDEiLCJMSFIiLG51bGwsIkxIIiwiOTIwIl1dXQ=='}, {'flights': [{'departure_airport': {'name': 'Aeropuerto Internacional de Pekín', 'id': 'PEK', 'time': '2025-02-01 03:00'}, 'arrival_airport': {'name': 'Aeropuerto de Viena-Schwechat', 'id': 'VIE', 'time': '2025-02-01 06:20'}, 'duration': 620, 'airplane': 'Airbus A350', 'airline': 'Air China', 'airline_logo': 'https://www.gstatic.com/flights/airline_logos/70px/CA.png', 'travel_class': 'Economy', 'flight_number': 'CA 841', 'ticket_also_sold_by': ['Austrian'], 'legroom': '79 cm', 'extensions': ['Average legroom (79 cm)', 'Free Wi-Fi', 'In-seat power & USB outlets', 'On-demand video', 'Carbon emissions estimate: 487 kg'], 'overnight': True, 'often_delayed_by_over_30_min': True}, {'departure_airport': {'name': 'Aeropuerto de Viena-Schwechat', 'id': 'VIE', 'time': '2025-02-01 08:55'}, 'arrival_airport': {'name': 'Aeropuerto de Londres-Heathrow', 'id': 'LHR', 'time': '2025-02-01 10:25'}, 'duration': 150, 'airplane': 'Airbus A320neo', 'airline': 'Austrian', 'airline_logo': 'https://www.gstatic.com/flights/airline_logos/70px/OS.png', 'travel_class': 'Economy', 'flight_number': 'OS 453', 'ticket_also_sold_by': ['Air China'], 'legroom': '71 cm', 'extensions': ['Below average legroom (71 cm)', 'In-seat USB outlet', 'Carbon emissions estimate: 113 kg'], 'often_delayed_by_over_30_min': True}], 'layovers': [{'duration': 155, 'name': 'Aeropuerto de Viena-Schwechat', 'id': 'VIE'}], 'total_duration': 925, 'carbon_emissions': {'this_flight': 601000, 'typical_for_this_route': 552000, 'difference_percent': 9}, 'price': 2286, 'type': 'Round trip', 'airline_logo': 'https://www.gstatic.com/flights/airline_logos/70px/multi.png', 'departure_token': 'WyJDalJJUjI4MmFGQlZiMFZLTTBsQlJXSkllVUZDUnkwdExTMHRMUzB0TFhaMGJtTXhPRUZCUVVGQlIyVldZamxaU1Znd1JHRkJFZ3REUVRnME1YeFBVelExTXhvTENNNzVEUkFDR2dOVlUwUTRISERPK1EwPSIsW1siUEVLIiwiMjAyNS0wMi0wMSIsIlZJRSIsbnVsbCwiQ0EiLCI4NDEiXSxbIlZJRSIsIjIwMjUtMDItMDEiLCJMSFIiLG51bGwsIk9TIiwiNDUzIl1dXQ=='}, {'flights': [{'departure_airport': {'name': 'Aeropuerto Internacional de Pekín', 'id': 'PEK', 'time': '2025-02-01 02:50'}, 'arrival_airport': {'name': 'Aeropuerto Internacional de Múnich-Franz Josef Strauss', 'id': 'MUC', 'time': '2025-02-01 06:30'}, 'duration': 640, 'airplane': 'Boeing 777', 'airline': 'Air China', 'airline_logo': 'https://www.gstatic.com/flights/airline_logos/70px/CA.png', 'travel_class': 'Economy', 'flight_number': 'CA 961', 'ticket_also_sold_by': ['Lufthansa'], 'legroom': '81 cm', 'extensions': ['Above average legroom (81 cm)', 'In-seat power outlet', 'On-demand video', 'Carbon emissions estimate: 545 kg'], 'overnight': True}, {'departure_airport': {'name': 'Aeropuerto Internacional de Múnich-Franz Josef Strauss', 'id': 'MUC', 'time': '2025-02-01 09:20'}, 'arrival_airport': {'name': 'Aeropuerto de Londres-Heathrow', 'id': 'LHR', 'time': '2025-02-01 10:25'}, 'duration': 125, 'airplane': 'Airbus A320neo', 'airline': 'Lufthansa', 'airline_logo': 'https://www.gstatic.com/flights/airline_logos/70px/LH.png', 'travel_class': 'Economy', 'flight_number': 'LH 2472', 'legroom': '74 cm', 'extensions': ['Below average legroom (74 cm)', 'In-seat USB outlet', 'Carbon emissions estimate: 87 kg'], 'often_delayed_by_over_30_min': True}], 'layovers': [{'duration': 170, 'name': 'Aeropuerto Internacional de Múnich-Franz Josef Strauss', 'id': 'MUC'}], 'total_duration': 935, 'carbon_emissions': {'this_flight': 634000, 'typical_for_this_route': 552000, 'difference_percent': 15}, 'price': 2291, 'type': 'Round trip', 'airline_logo': 'https://www.gstatic.com/flights/airline_logos/70px/multi.png', 'departure_token': 'WyJDalJJUjI4MmFGQlZiMFZLTTBsQlJXSkllVUZDUnkwdExTMHRMUzB0TFhaMGJtTXhPRUZCUVVGQlIyVldZamxaU1Znd1JHRkJFZ3hEUVRrMk1YeE1TREkwTnpJYUN3ak4vUTBRQWhvRFZWTkVPQnh3emYwTiIsW1siUEVLIiwiMjAyNS0wMi0wMSIsIk1VQyIsbnVsbCwiQ0EiLCI5NjEiXSxbIk1VQyIsIjIwMjUtMDItMDEiLCJMSFIiLG51bGwsIkxIIiwiMjQ3MiJdXV0='}, {'flights': [{'departure_airport': {'name': 'Aeropuerto Internacional de Pekín', 'id': 'PEK', 'time': '2025-02-01 09:55'}, 'arrival_airport': {'name': 'Aeropuerto de Fráncfort del Meno', 'id': 'FRA', 'time': '2025-02-01 13:20'}, 'duration': 625, 'airplane': 'Boeing 777', 'airline': 'Air China', 'airline_logo': 'https://www.gstatic.com/flights/airline_logos/70px/CA.png', 'travel_class': 'Economy', 'flight_number': 'CA 957', 'ticket_also_sold_by': ['Lufthansa'], 'legroom': '81 cm', 'extensions': ['Above average legroom (81 cm)', 'In-seat power outlet', 'On-demand video', 'Carbon emissions estimate: 552 kg'], 'often_delayed_by_over_30_min': True}, {'departure_airport': {'name': 'Aeropuerto de Fráncfort del Meno', 'id': 'FRA', 'time': '2025-02-01 15:00'}, 'arrival_airport': {'name': 'Aeropuerto de Londres-Heathrow', 'id': 'LHR', 'time': '2025-02-01 15:45'}, 'duration': 105, 'airplane': 'Airbus A320neo', 'airline': 'Lufthansa', 'airline_logo': 'https://www.gstatic.com/flights/airline_logos/70px/LH.png', 'travel_class': 'Economy', 'flight_number': 'LH 910', 'legroom': '74 cm', 'extensions': ['Below average legroom (74 cm)', 'In-seat USB outlet', 'Carbon emissions estimate: 70 kg']}], 'layovers': [{'duration': 100, 'name': 'Aeropuerto de Fráncfort del Meno', 'id': 'FRA'}], 'total_duration': 830, 'carbon_emissions': {'this_flight': 622000, 'typical_for_this_route': 552000, 'difference_percent': 13}, 'price': 2302, 'type': 'Round trip', 'airline_logo': 'https://www.gstatic.com/flights/airline_logos/70px/multi.png', 'departure_token': 'WyJDalJJUjI4MmFGQlZiMFZLTTBsQlJXSkllVUZDUnkwdExTMHRMUzB0TFhaMGJtTXhPRUZCUVVGQlIyVldZamxaU1Znd1JHRkJFZ3REUVRrMU4zeE1TRGt4TUJvTENObUZEaEFDR2dOVlUwUTRISERaaFE0PSIsW1siUEVLIiwiMjAyNS0wMi0wMSIsIkZSQSIsbnVsbCwiQ0EiLCI5NTciXSxbIkZSQSIsIjIwMjUtMDItMDEiLCJMSFIiLG51bGwsIkxIIiwiOTEwIl1dXQ=='}, {'flights': [{'departure_airport': {'name': 'Aeropuerto Internacional de Pekín', 'id': 'PEK', 'time': '2025-02-01 12:45'}, 'arrival_airport': {'name': 'Aeropuerto de Londres-Heathrow', 'id': 'LHR', 'time': '2025-02-01 15:55'}, 'duration': 670, 'airplane': 'Airbus A350', 'airline': 'Air China', 'airline_logo': 'https://www.gstatic.com/flights/airline_logos/70px/CA.png', 'travel_class': 'Economy', 'flight_number': 'CA 855', 'legroom': '79 cm', 'extensions': ['Average legroom (79 cm)', 'Free Wi-Fi', 'In-seat power & USB outlets', 'On-demand video', 'Carbon emissions estimate: 519 kg']}], 'total_duration': 670, 'carbon_emissions': {'this_flight': 520000, 'typical_for_this_route': 552000, 'difference_percent': -6}, 'type': 'Round trip', 'airline_logo': 'https://www.gstatic.com/flights/airline_logos/70px/CA.png', 'departure_token': 'WyJDalJJUjI4MmFGQlZiMFZLTTBsQlJXSkllVUZDUnkwdExTMHRMUzB0TFhaMGJtTXhPRUZCUVVGQlIyVldZamxaU1Znd1JHRkJFZ1ZEUVRnMU5UZ2MiLFtbIlBFSyIsIjIwMjUtMDItMDEiLCJMSFIiLG51bGwsIkNBIiwiODU1Il1dXQ=='}, {'flights': [{'departure_airport': {'name': 'Aeropuerto Internacional de Pekín', 'id': 'PEK', 'time': '2025-02-01 14:40'}, 'arrival_airport': {'name': 'Aeropuerto de Londres-Heathrow', 'id': 'LHR', 'time': '2025-02-01 17:50'}, 'duration': 670, 'airplane': 'Boeing 777', 'airline': 'Air China', 'airline_logo': 'https://www.gstatic.com/flights/airline_logos/70px/CA.png', 'travel_class': 'Economy', 'flight_number': 'CA 937', 'legroom': '81 cm', 'extensions': ['Above average legroom (81 cm)', 'In-seat power outlet', 'On-demand video', 'Carbon emissions estimate: 568 kg']}], 'total_duration': 670, 'carbon_emissions': {'this_flight': 568000, 'typical_for_this_route': 552000, 'difference_percent': 3}, 'type': 'Round trip', 'airline_logo': 'https://www.gstatic.com/flights/airline_logos/70px/CA.png', 'departure_token': 'WyJDalJJUjI4MmFGQlZiMFZLTTBsQlJXSkllVUZDUnkwdExTMHRMUzB0TFhaMGJtTXhPRUZCUVVGQlIyVldZamxaU1Znd1JHRkJFZ1ZEUVRrek56Z2MiLFtbIlBFSyIsIjIwMjUtMDItMDEiLCJMSFIiLG51bGwsIkNBIiwiOTM3Il1dXQ=='}], 'price_insights': {'lowest_price': 714, 'price_level': 'typical', 'typical_price_range': [600, 870]}, 'airports': [{'departure': [{'airport': {'id': 'PEK', 'name': 'Aeropuerto Internacional de Pekín'}, 'city': 'Pekín', 'country': 'China', 'country_code': 'CN', 'image': 'https://encrypted-tbn1.gstatic.com/images?q=tbn:ANd9GcQ9v_tNYxaummsU2qbFn8zuYzkcG0x6qCvqB2gbBnx-2FVlZZPsnkvUXGk07vxotk-0vRQMUYCjj2d4Wg', 'thumbnail': 'https://encrypted-tbn1.gstatic.com/images?q=tbn:ANd9GcSzsj_yw6o3vb8i54_D21VgI5rTohxexQkZ0TrZKDKJwTSKw2yqnRYLoIcBWIY50BlHo-OPMm68zbUO-qnFvmQmm6jvtWPwo7WOzjNGX_A'}], 'arrival': [{'airport': {'id': 'LHR', 'name': 'Aeropuerto de Londres-Heathrow'}, 'city': 'Londres', 'country': 'Reino Unido', 'country_code': 'GB', 'image': 'https://encrypted-tbn1.gstatic.com/images?q=tbn:ANd9GcRpN9RbtOSTDqKIPxWc_D6rdSysaWVh6d-NW7yz7yFXKRwh5RN5BpNIoXEwH1XVcFdLWqn6Sm8_Y_zmeg', 'thumbnail': 'https://encrypted-tbn1.gstatic.com/images?q=tbn:ANd9GcQYH83YXny8hR4M7k5BMFq4vUT6LNtVABQzgs2pg-hcpSZq3oMBOQK3xh591AAJv2Qx4uvFZUGqOVt4kuoCUOklISunmndJleOoSef_7QE'}]}, {'departure': [{'airport': {'id': 'LHR', 'name': 'Aeropuerto de Londres-Heathrow'}, 'city': 'Londres', 'country': 'Reino Unido', 'country_code': 'GB', 'image': 'https://encrypted-tbn1.gstatic.com/images?q=tbn:ANd9GcRpN9RbtOSTDqKIPxWc_D6rdSysaWVh6d-NW7yz7yFXKRwh5RN5BpNIoXEwH1XVcFdLWqn6Sm8_Y_zmeg', 'thumbnail': 'https://encrypted-tbn1.gstatic.com/images?q=tbn:ANd9GcQYH83YXny8hR4M7k5BMFq4vUT6LNtVABQzgs2pg-hcpSZq3oMBOQK3xh591AAJv2Qx4uvFZUGqOVt4kuoCUOklISunmndJleOoSef_7QE'}], 'arrival': [{'airport': {'id': 'PEK', 'name': 'Aeropuerto Internacional de Pekín'}, 'city': 'Pekín', 'country': 'China', 'country_code': 'CN', 'image': 'https://encrypted-tbn1.gstatic.com/images?q=tbn:ANd9GcQ9v_tNYxaummsU2qbFn8zuYzkcG0x6qCvqB2gbBnx-2FVlZZPsnkvUXGk07vxotk-0vRQMUYCjj2d4Wg', 'thumbnail': 'https://encrypted-tbn1.gstatic.com/images?q=tbn:ANd9GcSzsj_yw6o3vb8i54_D21VgI5rTohxexQkZ0TrZKDKJwTSKw2yqnRYLoIcBWIY50BlHo-OPMm68zbUO-qnFvmQmm6jvtWPwo7WOzjNGX_A'}]}]}\n"
     ]
    }
   ],
   "source": [
    "print(flight_data)"
   ]
  },
  {
   "cell_type": "code",
   "execution_count": 36,
   "metadata": {},
   "outputs": [
    {
     "name": "stdout",
     "output_type": "stream",
     "text": [
      "[{'departure_airport': 'Aeropuerto Internacional de Pekín', 'arrival_airport': 'Amsterdam Airport Schiphol', 'departure_time': '2025-02-01 11:50', 'arrival_time': '2025-02-01 17:20', 'airline': 'KLM', 'price': 714}, {'departure_airport': 'Amsterdam Airport Schiphol', 'arrival_airport': 'Aeropuerto de Londres-Heathrow', 'departure_time': '2025-02-01 20:30', 'arrival_time': '2025-02-01 20:50', 'airline': 'KLM', 'price': 714}, {'departure_airport': 'Aeropuerto Internacional de Pekín', 'arrival_airport': 'Aeropuerto de París-Charles de Gaulle', 'departure_time': '2025-02-01 23:55', 'arrival_time': '2025-02-02 05:55', 'airline': 'Air France', 'price': 885}, {'departure_airport': 'Aeropuerto de París-Charles de Gaulle', 'arrival_airport': 'Aeropuerto de Londres-Heathrow', 'departure_time': '2025-02-02 10:00', 'arrival_time': '2025-02-02 10:30', 'airline': 'Air France', 'price': 885}, {'departure_airport': 'Aeropuerto Internacional de Pekín', 'arrival_airport': 'Aeropuerto de Estambul', 'departure_time': '2025-02-01 00:45', 'arrival_time': '2025-02-01 06:20', 'airline': 'Turkish Airlines', 'price': 944}, {'departure_airport': 'Aeropuerto de Estambul', 'arrival_airport': 'Aeropuerto de Londres-Heathrow', 'departure_time': '2025-02-01 08:40', 'arrival_time': '2025-02-01 09:55', 'airline': 'Turkish Airlines', 'price': 944}, {'departure_airport': 'Aeropuerto Internacional de Pekín', 'arrival_airport': 'Aeropuerto de París-Charles de Gaulle', 'departure_time': '2025-02-01 23:55', 'arrival_time': '2025-02-02 05:55', 'airline': 'Air France', 'price': 961}, {'departure_airport': 'Aeropuerto de París-Charles de Gaulle', 'arrival_airport': 'Aeropuerto de Londres-Heathrow', 'departure_time': '2025-02-02 07:35', 'arrival_time': '2025-02-02 08:00', 'airline': 'Air France', 'price': 961}]\n"
     ]
    }
   ],
   "source": [
    "# Extract relevant flight details and structure them into a list of dictionaries\n",
    "flights_for_db = []\n",
    "\n",
    "for flight in flight_data['best_flights']:\n",
    "    for segment in flight['flights']:\n",
    "        flight_info = {\n",
    "            'departure_airport': segment['departure_airport']['name'],\n",
    "            'arrival_airport': segment['arrival_airport']['name'],\n",
    "            'departure_time': segment['departure_airport']['time'],\n",
    "            'arrival_time': segment['arrival_airport']['time'],\n",
    "            'airline': segment['airline'],\n",
    "            'price': flight['price']\n",
    "        }\n",
    "        flights_for_db.append(flight_info)\n",
    "\n",
    "# Now flights_for_db contains the structured flight information\n",
    "print(flights_for_db)"
   ]
  }
 ],
 "metadata": {
  "kernelspec": {
   "display_name": "Python 3",
   "language": "python",
   "name": "python3"
  },
  "language_info": {
   "codemirror_mode": {
    "name": "ipython",
    "version": 3
   },
   "file_extension": ".py",
   "mimetype": "text/x-python",
   "name": "python",
   "nbconvert_exporter": "python",
   "pygments_lexer": "ipython3",
   "version": "3.13.1"
  }
 },
 "nbformat": 4,
 "nbformat_minor": 2
}
