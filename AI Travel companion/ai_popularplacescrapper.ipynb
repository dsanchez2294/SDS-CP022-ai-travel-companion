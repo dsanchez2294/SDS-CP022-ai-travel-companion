{
 "cells": [
  {
   "cell_type": "code",
   "execution_count": 4,
   "metadata": {},
   "outputs": [],
   "source": [
    "import requests\n",
    "from bs4 import BeautifulSoup\n",
    "import json"
   ]
  },
  {
   "cell_type": "code",
   "execution_count": 5,
   "metadata": {},
   "outputs": [],
   "source": [
    "def scrape_destinations(country, city, attraction_type):\n",
    "    base_url = f\"https://www.tripadvisor.com/Search?q={city}+{attraction_type}&ssrc=h&o=\"\n",
    "    destinations = []\n",
    "\n",
    "    for page in range(0, 50, 10):  # Adjust pagination as necessary\n",
    "        url = base_url + str(page)\n",
    "        response = requests.get(url)\n",
    "        soup = BeautifulSoup(response.text, 'html.parser')\n",
    "        \n",
    "        # Adjust selectors to target specific website structure\n",
    "        attractions = soup.select('.result-title')  # Update with actual selector\n",
    "        for attraction in attractions:\n",
    "            try:\n",
    "                destination_name = attraction.text.strip()\n",
    "                address = attraction.find_next('span', class_='location').text.strip()\n",
    "                visiting_hours = \"Check website for details\"  # Placeholder\n",
    "                entrance_fee = \"N/A\"  # Placeholder\n",
    "                rating = float(attraction.find_next('span', class_='rating').text.strip())\n",
    "                reviews = int(attraction.find_next('span', class_='review-count').text.strip())\n",
    "                website_url = attraction['href']  # Relative URL\n",
    "                \n",
    "                destinations.append({\n",
    "                    \"country\": country,\n",
    "                    \"city\": city,\n",
    "                    \"type_of_attraction\": attraction_type,\n",
    "                    \"destination_name\": destination_name,\n",
    "                    \"visiting_hours\": visiting_hours,\n",
    "                    \"entrance_fee\": entrance_fee,\n",
    "                    \"recommended_weather\": \"Any\",  # Placeholder\n",
    "                    \"address\": address,\n",
    "                    \"rating\": rating,\n",
    "                    \"reviews\": reviews,\n",
    "                    \"website_url\": f\"https://www.tripadvisor.com{website_url}\",\n",
    "                    \"additional_info\": {\n",
    "                        \"description\": \"N/A\",\n",
    "                        \"tips\": \"N/A\",\n",
    "                        \"travel_options\": \"N/A\"\n",
    "                    }\n",
    "                })\n",
    "            except Exception as e:\n",
    "                print(f\"Error parsing attraction: {e}\")\n",
    "\n",
    "    # Save to JSON\n",
    "    with open(f\"{city}_{attraction_type}_destinations.json\", \"w\", encoding='utf-8') as file:\n",
    "        json.dump({\"destinations\": destinations}, file, ensure_ascii=False, indent=4)\n",
    "\n",
    "    print(f\"Scraping completed. Data saved for {city}, {attraction_type}.\")\n",
    "    return destinations\n",
    "\n"
   ]
  },
  {
   "cell_type": "code",
   "execution_count": 6,
   "metadata": {},
   "outputs": [
    {
     "name": "stdout",
     "output_type": "stream",
     "text": [
      "Scraping completed. Data saved for New York, museums.\n"
     ]
    },
    {
     "data": {
      "text/plain": [
       "[]"
      ]
     },
     "execution_count": 6,
     "metadata": {},
     "output_type": "execute_result"
    }
   ],
   "source": [
    "# Example usage\n",
    "scrape_destinations(\"USA\", \"New York\", \"museums\")\n"
   ]
  }
 ],
 "metadata": {
  "kernelspec": {
   "display_name": "Python 3",
   "language": "python",
   "name": "python3"
  },
  "language_info": {
   "codemirror_mode": {
    "name": "ipython",
    "version": 3
   },
   "file_extension": ".py",
   "mimetype": "text/x-python",
   "name": "python",
   "nbconvert_exporter": "python",
   "pygments_lexer": "ipython3",
   "version": "3.13.1"
  }
 },
 "nbformat": 4,
 "nbformat_minor": 2
}
