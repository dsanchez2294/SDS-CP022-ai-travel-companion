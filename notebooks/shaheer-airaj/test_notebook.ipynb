{
 "cells": [
  {
   "cell_type": "code",
   "execution_count": 1,
   "metadata": {},
   "outputs": [],
   "source": [
    "from pprint import pprint\n",
    "from planner_agent import PlannerAgent\n",
    "from summarizer_agent import SummarizerAgent\n",
    "from tools import SearchWeb"
   ]
  },
  {
   "cell_type": "code",
   "execution_count": 3,
   "metadata": {},
   "outputs": [
    {
     "name": "stderr",
     "output_type": "stream",
     "text": [
      "2025-02-08 00:31:49 - INFO - Planner agent is initializing...\n",
      "2025-02-08 00:32:01 - INFO - Retrying request to /chat/completions in 0.496338 seconds\n",
      "2025-02-08 00:32:04 - INFO - HTTP Request: POST https://api.openai.com/v1/chat/completions \"HTTP/1.1 200 OK\"\n"
     ]
    },
    {
     "name": "stdout",
     "output_type": "stream",
     "text": [
      "\n",
      "Response of chat: \n",
      " Thought: To help you plan your trip from Abu Dhabi to Japan, I'll need to gather details such as flights, hotels, and itineraries for top destinations in Japan. Tokyo, Kyoto, and Osaka are renowned cities that are often recommended for visitors. I'll begin by looking up flights from Abu Dhabi to Tokyo.\n",
      "\n",
      "Action: web_search: Round trip flights from Abu Dhabi to Tokyo for 2 weeks.\n"
     ]
    }
   ],
   "source": [
    "planner = PlannerAgent()\n",
    "response = planner.chat(\"I want to travel from Abu Dhabi to Japan for 2 weeks\")"
   ]
  },
  {
   "cell_type": "code",
   "execution_count": 5,
   "metadata": {},
   "outputs": [
    {
     "name": "stderr",
     "output_type": "stream",
     "text": [
      "2025-02-08 00:33:07 - INFO - Web search tool is being called...\n"
     ]
    }
   ],
   "source": [
    "search = SearchWeb()\n",
    "search_resp = search.search(response)"
   ]
  },
  {
   "cell_type": "code",
   "execution_count": 6,
   "metadata": {},
   "outputs": [
    {
     "data": {
      "text/plain": [
       "'Book United Arab Emirates to Tokyo flights with Etihad Airways. Fly economy, business or first class with us and enjoy premium travel experience from United Arab Emirates to Tokyo. ... Book now From Abu Dhabi To Tokyo Fare Type Round-trip Economy Dates 23 Jun 2025 - 7 Jul 2025 From AED5,775 Last Seen 10 hours ago. From Abu Dhabi (AUH) To Tokyo Book Abu Dhabi to Tokyo flights with Etihad Airways. Fly economy, business or first class with us and enjoy premium travel experience from Abu Dhabi (AUH) to Tokyo (NRT). ... From Abu Dhabi (AUH) To Tokyo (NRT) Round-trip / Economy: 19 Sep 2025 - 4 Oct 2025: From. AED5,985* Last Seen 12 minutes ago. ... AED6,195* Last Seen 13 hours ago. From Book your flights to Japan with Etihad Airways. Fly economy, business or first class with us and enjoy premium travel experience to Japan. ... Book now From Abu Dhabi To Tokyo Fare Type Round-trip Economy Dates 30 Apr 2025 ... Book now From Abu Dhabi To Tokyo Fare Type Round-trip Economy Dates 25 Jun 2025 - 2 Jul 2025 From AED5,775 Last Seen 17 Book Abu Dhabi to Japan flights with Etihad Airways. Fly economy, business or first class with us and enjoy premium travel experience from Abu Dhabi to Japan. ... Book now From Abu Dhabi To Tokyo Fare Type Round-trip Economy Dates 5 Oct 2025 - 22 Oct 2025 From AED5,775 Last Seen 1 day ago. From Abu Dhabi (AUH) To Tokyo ... Book now From Abu Round-trip flight with Air Arabia Abu Dhabi and Thai AirAsia X. Outbound indirect flight with Air Arabia Abu Dhabi, departing from Zayed International on Fri, Feb 28, arriving in Tokyo Haneda. Inbound indirect flight with Thai AirAsia X, departing from Tokyo Narita on Fri, Mar 7, arriving in Zayed International.'"
      ]
     },
     "execution_count": 6,
     "metadata": {},
     "output_type": "execute_result"
    }
   ],
   "source": [
    "search_resp"
   ]
  },
  {
   "cell_type": "code",
   "execution_count": 7,
   "metadata": {},
   "outputs": [
    {
     "name": "stderr",
     "output_type": "stream",
     "text": [
      "2025-02-08 00:33:49 - INFO - Summarizer agent is initializing...\n",
      "2025-02-08 00:33:52 - INFO - HTTP Request: POST https://api.openai.com/v1/chat/completions \"HTTP/1.1 200 OK\"\n"
     ]
    },
    {
     "name": "stdout",
     "output_type": "stream",
     "text": [
      "\n",
      "Response of chat: \n",
      " The best flights from Abu Dhabi to Tokyo with Etihad Airways include round-trip economy tickets priced at 5,775 AED for the dates 23 June 2025 to 7 July 2025, and 19 September 2025 to 4 October 2025 priced at 5,985 AED. Additionally, another option is available for the dates 5 October 2025 to 22 October 2025 for the same price of 5,775 AED.\n"
     ]
    }
   ],
   "source": [
    "summarizer = SummarizerAgent()\n",
    "summary = summarizer.chat(search_resp)"
   ]
  },
  {
   "cell_type": "code",
   "execution_count": 8,
   "metadata": {},
   "outputs": [
    {
     "name": "stderr",
     "output_type": "stream",
     "text": [
      "2025-02-08 00:34:39 - INFO - Retrying request to /chat/completions in 0.390675 seconds\n",
      "2025-02-08 00:34:42 - INFO - HTTP Request: POST https://api.openai.com/v1/chat/completions \"HTTP/1.1 200 OK\"\n"
     ]
    },
    {
     "name": "stdout",
     "output_type": "stream",
     "text": [
      "\n",
      "Response of chat: \n",
      " Thought: Now that I've obtained flight information, the next step is to find the best hotel deals for Tokyo during the chosen travel dates of 23 June 2025 to 7 July 2025. \n",
      "\n",
      "Action: web_search: Best hotel deals for Tokyo from 23 June 2025 to 7 July 2025.\n"
     ]
    }
   ],
   "source": [
    "response = planner.chat(summary)"
   ]
  },
  {
   "cell_type": "code",
   "execution_count": 11,
   "metadata": {},
   "outputs": [
    {
     "name": "stderr",
     "output_type": "stream",
     "text": [
      "2025-02-08 00:36:25 - INFO - HTTP Request: POST https://api.openai.com/v1/chat/completions \"HTTP/1.1 200 OK\"\n"
     ]
    },
    {
     "name": "stdout",
     "output_type": "stream",
     "text": [
      "\n",
      "Response of chat: \n",
      " You can choose from 291 cheap hotels in Tokyo starting from AED 168, with many being fully refundable. Among the best options for 2025 are the InterContinental ANA Tokyo and APA Hotel Higashi Shinjuku Kabukicho Tower, which offers a buffet breakfast and free WiFi, rated 8.1. Popular attractions to visit include Tokyo Tower and Senso-ji Temple.\n"
     ]
    }
   ],
   "source": [
    "search_resp = search.search(response)\n",
    "summary = summarizer.chat(search_resp)"
   ]
  },
  {
   "cell_type": "code",
   "execution_count": 12,
   "metadata": {},
   "outputs": [
    {
     "name": "stderr",
     "output_type": "stream",
     "text": [
      "2025-02-08 00:36:51 - INFO - Retrying request to /chat/completions in 0.492697 seconds\n",
      "2025-02-08 00:36:54 - INFO - HTTP Request: POST https://api.openai.com/v1/chat/completions \"HTTP/1.1 200 OK\"\n"
     ]
    },
    {
     "name": "stdout",
     "output_type": "stream",
     "text": [
      "\n",
      "Response of chat: \n",
      " Thought: Now that I've obtained hotel information for Tokyo, I should look for the best hotel deals for Kyoto for the same dates, 23 June 2025 to 7 July 2025.\n",
      "\n",
      "Action: web_search: Best hotel deals for Kyoto from 23 June 2025 to 7 July 2025.\n"
     ]
    }
   ],
   "source": [
    "response = planner.chat(summary)"
   ]
  },
  {
   "cell_type": "code",
   "execution_count": 13,
   "metadata": {},
   "outputs": [
    {
     "name": "stderr",
     "output_type": "stream",
     "text": [
      "2025-02-08 00:37:14 - INFO - HTTP Request: POST https://api.openai.com/v1/chat/completions \"HTTP/1.1 200 OK\"\n"
     ]
    },
    {
     "name": "stdout",
     "output_type": "stream",
     "text": [
      "\n",
      "Response of chat: \n",
      " In Kyoto, you can stay at a 3-star hotel that offers free WiFi, laundry facilities, and in-room washers/dryers, located near Nishiki Market and Kawaramachi Street. Alternatively, a 3.5-star hotel with free WiFi, hot springs, and breakfast options is available, praised for its helpful staff and condition, close to Kiyomizu Temple and Kyoto Tower. Hotel rates start from AED 113, with most stays fully refundable. Additionally, you can find 3,124 hotels near Jojakkoji Temple starting from AED 145. The cheapest flights from Dubai to Kyoto are available on Sunday, May 18, 2025.\n"
     ]
    }
   ],
   "source": [
    "search_resp = search.search(response)\n",
    "summary = summarizer.chat(search_resp)"
   ]
  },
  {
   "cell_type": "code",
   "execution_count": 14,
   "metadata": {},
   "outputs": [
    {
     "name": "stderr",
     "output_type": "stream",
     "text": [
      "2025-02-08 00:37:32 - INFO - Retrying request to /chat/completions in 0.477291 seconds\n",
      "2025-02-08 00:37:35 - INFO - HTTP Request: POST https://api.openai.com/v1/chat/completions \"HTTP/1.1 200 OK\"\n"
     ]
    },
    {
     "name": "stdout",
     "output_type": "stream",
     "text": [
      "\n",
      "Response of chat: \n",
      " Observation: The best hotel deals for Kyoto can be found among a variety of options, including hotels with free WiFi, laundry facilities, and locations near popular sites like Nishiki Market and Kiyomizu Temple. Rates start from AED 113, with refundable options available.\n",
      "\n",
      "Thought: Next, I should find the best hotel deals for Osaka for the travel period 23 June 2025 to 7 July 2025.\n",
      "\n",
      "Action: web_search: Best hotel deals for Osaka from 23 June 2025 to 7 July 2025.\n"
     ]
    }
   ],
   "source": [
    "response = planner.chat(summary)"
   ]
  },
  {
   "cell_type": "code",
   "execution_count": 21,
   "metadata": {},
   "outputs": [
    {
     "ename": "HTTPError",
     "evalue": "400 Client Error: Bad Request for url: https://api.tavily.com/search",
     "output_type": "error",
     "traceback": [
      "\u001b[1;31m---------------------------------------------------------------------------\u001b[0m",
      "\u001b[1;31mHTTPError\u001b[0m                                 Traceback (most recent call last)",
      "Cell \u001b[1;32mIn[21], line 1\u001b[0m\n\u001b[1;32m----> 1\u001b[0m search_resp \u001b[38;5;241m=\u001b[39m \u001b[43msearch\u001b[49m\u001b[38;5;241;43m.\u001b[39;49m\u001b[43msearch\u001b[49m\u001b[43m(\u001b[49m\u001b[43mresponse\u001b[49m\u001b[43m)\u001b[49m\n\u001b[0;32m      2\u001b[0m summary \u001b[38;5;241m=\u001b[39m summarizer\u001b[38;5;241m.\u001b[39mchat(search_resp)\n",
      "File \u001b[1;32mc:\\Users\\shahe\\Documents\\SuperDataScience\\Collaborative Projects\\Ongoing\\SDS-CP022-ai-travel-companion\\notebooks\\shaheer-airaj\\tools.py:33\u001b[0m, in \u001b[0;36mSearchWeb.search\u001b[1;34m(self, search_input, include_domains)\u001b[0m\n\u001b[0;32m     32\u001b[0m \u001b[38;5;28;01mdef\u001b[39;00m\u001b[38;5;250m \u001b[39m\u001b[38;5;21msearch\u001b[39m(\u001b[38;5;28mself\u001b[39m, search_input, include_domains\u001b[38;5;241m=\u001b[39mDOMAINS):\n\u001b[1;32m---> 33\u001b[0m     response \u001b[38;5;241m=\u001b[39m \u001b[38;5;28;43mself\u001b[39;49m\u001b[38;5;241;43m.\u001b[39;49m\u001b[43mclient\u001b[49m\u001b[38;5;241;43m.\u001b[39;49m\u001b[43msearch\u001b[49m\u001b[43m(\u001b[49m\u001b[43msearch_input\u001b[49m\u001b[43m,\u001b[49m\u001b[43m \u001b[49m\u001b[43minclude_domains\u001b[49m\u001b[38;5;241;43m=\u001b[39;49m\u001b[43minclude_domains\u001b[49m\u001b[43m)\u001b[49m\n\u001b[0;32m     34\u001b[0m     response_list \u001b[38;5;241m=\u001b[39m [resp[\u001b[38;5;124m\"\u001b[39m\u001b[38;5;124mcontent\u001b[39m\u001b[38;5;124m\"\u001b[39m] \u001b[38;5;28;01mfor\u001b[39;00m resp \u001b[38;5;129;01min\u001b[39;00m response[\u001b[38;5;124m\"\u001b[39m\u001b[38;5;124mresults\u001b[39m\u001b[38;5;124m\"\u001b[39m]]\n\u001b[0;32m     35\u001b[0m     responses \u001b[38;5;241m=\u001b[39m \u001b[38;5;124m\"\u001b[39m\u001b[38;5;124m \u001b[39m\u001b[38;5;124m\"\u001b[39m\u001b[38;5;241m.\u001b[39mjoin(response_list)\n",
      "File \u001b[1;32mc:\\Users\\shahe\\Documents\\SuperDataScience\\Collaborative Projects\\Ongoing\\SDS-CP022-ai-travel-companion\\.venv\\Lib\\site-packages\\tavily\\tavily.py:96\u001b[0m, in \u001b[0;36mTavilyClient.search\u001b[1;34m(self, query, search_depth, topic, days, max_results, include_domains, exclude_domains, include_answer, include_raw_content, include_images, **kwargs)\u001b[0m\n\u001b[0;32m     79\u001b[0m \u001b[38;5;28;01mdef\u001b[39;00m\u001b[38;5;250m \u001b[39m\u001b[38;5;21msearch\u001b[39m(\u001b[38;5;28mself\u001b[39m,\n\u001b[0;32m     80\u001b[0m            query: \u001b[38;5;28mstr\u001b[39m,\n\u001b[0;32m     81\u001b[0m            search_depth: Literal[\u001b[38;5;124m\"\u001b[39m\u001b[38;5;124mbasic\u001b[39m\u001b[38;5;124m\"\u001b[39m, \u001b[38;5;124m\"\u001b[39m\u001b[38;5;124madvanced\u001b[39m\u001b[38;5;124m\"\u001b[39m] \u001b[38;5;241m=\u001b[39m \u001b[38;5;124m\"\u001b[39m\u001b[38;5;124mbasic\u001b[39m\u001b[38;5;124m\"\u001b[39m,\n\u001b[1;32m   (...)\u001b[0m\n\u001b[0;32m     90\u001b[0m            \u001b[38;5;241m*\u001b[39m\u001b[38;5;241m*\u001b[39mkwargs,  \u001b[38;5;66;03m# Accept custom arguments\u001b[39;00m\n\u001b[0;32m     91\u001b[0m            ) \u001b[38;5;241m-\u001b[39m\u001b[38;5;241m>\u001b[39m \u001b[38;5;28mdict\u001b[39m:\n\u001b[0;32m     92\u001b[0m \u001b[38;5;250m    \u001b[39m\u001b[38;5;124;03m\"\"\"\u001b[39;00m\n\u001b[0;32m     93\u001b[0m \u001b[38;5;124;03m    Combined search method.\u001b[39;00m\n\u001b[0;32m     94\u001b[0m \u001b[38;5;124;03m    \"\"\"\u001b[39;00m\n\u001b[1;32m---> 96\u001b[0m     response_dict \u001b[38;5;241m=\u001b[39m \u001b[38;5;28;43mself\u001b[39;49m\u001b[38;5;241;43m.\u001b[39;49m\u001b[43m_search\u001b[49m\u001b[43m(\u001b[49m\u001b[43mquery\u001b[49m\u001b[43m,\u001b[49m\n\u001b[0;32m     97\u001b[0m \u001b[43m                                 \u001b[49m\u001b[43msearch_depth\u001b[49m\u001b[38;5;241;43m=\u001b[39;49m\u001b[43msearch_depth\u001b[49m\u001b[43m,\u001b[49m\n\u001b[0;32m     98\u001b[0m \u001b[43m                                 \u001b[49m\u001b[43mtopic\u001b[49m\u001b[38;5;241;43m=\u001b[39;49m\u001b[43mtopic\u001b[49m\u001b[43m,\u001b[49m\n\u001b[0;32m     99\u001b[0m \u001b[43m                                 \u001b[49m\u001b[43mdays\u001b[49m\u001b[38;5;241;43m=\u001b[39;49m\u001b[43mdays\u001b[49m\u001b[43m,\u001b[49m\n\u001b[0;32m    100\u001b[0m \u001b[43m                                 \u001b[49m\u001b[43mmax_results\u001b[49m\u001b[38;5;241;43m=\u001b[39;49m\u001b[43mmax_results\u001b[49m\u001b[43m,\u001b[49m\n\u001b[0;32m    101\u001b[0m \u001b[43m                                 \u001b[49m\u001b[43minclude_domains\u001b[49m\u001b[38;5;241;43m=\u001b[39;49m\u001b[43minclude_domains\u001b[49m\u001b[43m,\u001b[49m\n\u001b[0;32m    102\u001b[0m \u001b[43m                                 \u001b[49m\u001b[43mexclude_domains\u001b[49m\u001b[38;5;241;43m=\u001b[39;49m\u001b[43mexclude_domains\u001b[49m\u001b[43m,\u001b[49m\n\u001b[0;32m    103\u001b[0m \u001b[43m                                 \u001b[49m\u001b[43minclude_answer\u001b[49m\u001b[38;5;241;43m=\u001b[39;49m\u001b[43minclude_answer\u001b[49m\u001b[43m,\u001b[49m\n\u001b[0;32m    104\u001b[0m \u001b[43m                                 \u001b[49m\u001b[43minclude_raw_content\u001b[49m\u001b[38;5;241;43m=\u001b[39;49m\u001b[43minclude_raw_content\u001b[49m\u001b[43m,\u001b[49m\n\u001b[0;32m    105\u001b[0m \u001b[43m                                 \u001b[49m\u001b[43minclude_images\u001b[49m\u001b[38;5;241;43m=\u001b[39;49m\u001b[43minclude_images\u001b[49m\u001b[43m,\u001b[49m\n\u001b[0;32m    106\u001b[0m \u001b[43m                                 \u001b[49m\u001b[38;5;241;43m*\u001b[39;49m\u001b[38;5;241;43m*\u001b[39;49m\u001b[43mkwargs\u001b[49m\u001b[43m,\u001b[49m\n\u001b[0;32m    107\u001b[0m \u001b[43m                                 \u001b[49m\u001b[43m)\u001b[49m\n\u001b[0;32m    109\u001b[0m     tavily_results \u001b[38;5;241m=\u001b[39m response_dict\u001b[38;5;241m.\u001b[39mget(\u001b[38;5;124m\"\u001b[39m\u001b[38;5;124mresults\u001b[39m\u001b[38;5;124m\"\u001b[39m, [])\n\u001b[0;32m    111\u001b[0m     response_dict[\u001b[38;5;124m\"\u001b[39m\u001b[38;5;124mresults\u001b[39m\u001b[38;5;124m\"\u001b[39m] \u001b[38;5;241m=\u001b[39m tavily_results\n",
      "File \u001b[1;32mc:\\Users\\shahe\\Documents\\SuperDataScience\\Collaborative Projects\\Ongoing\\SDS-CP022-ai-travel-companion\\.venv\\Lib\\site-packages\\tavily\\tavily.py:77\u001b[0m, in \u001b[0;36mTavilyClient._search\u001b[1;34m(self, query, search_depth, topic, days, max_results, include_domains, exclude_domains, include_answer, include_raw_content, include_images, **kwargs)\u001b[0m\n\u001b[0;32m     75\u001b[0m     \u001b[38;5;28;01mraise\u001b[39;00m InvalidAPIKeyError()\n\u001b[0;32m     76\u001b[0m \u001b[38;5;28;01melse\u001b[39;00m:\n\u001b[1;32m---> 77\u001b[0m     \u001b[43mresponse\u001b[49m\u001b[38;5;241;43m.\u001b[39;49m\u001b[43mraise_for_status\u001b[49m\u001b[43m(\u001b[49m\u001b[43m)\u001b[49m\n",
      "File \u001b[1;32mc:\\Users\\shahe\\Documents\\SuperDataScience\\Collaborative Projects\\Ongoing\\SDS-CP022-ai-travel-companion\\.venv\\Lib\\site-packages\\requests\\models.py:1024\u001b[0m, in \u001b[0;36mResponse.raise_for_status\u001b[1;34m(self)\u001b[0m\n\u001b[0;32m   1019\u001b[0m     http_error_msg \u001b[38;5;241m=\u001b[39m (\n\u001b[0;32m   1020\u001b[0m         \u001b[38;5;124mf\u001b[39m\u001b[38;5;124m\"\u001b[39m\u001b[38;5;132;01m{\u001b[39;00m\u001b[38;5;28mself\u001b[39m\u001b[38;5;241m.\u001b[39mstatus_code\u001b[38;5;132;01m}\u001b[39;00m\u001b[38;5;124m Server Error: \u001b[39m\u001b[38;5;132;01m{\u001b[39;00mreason\u001b[38;5;132;01m}\u001b[39;00m\u001b[38;5;124m for url: \u001b[39m\u001b[38;5;132;01m{\u001b[39;00m\u001b[38;5;28mself\u001b[39m\u001b[38;5;241m.\u001b[39murl\u001b[38;5;132;01m}\u001b[39;00m\u001b[38;5;124m\"\u001b[39m\n\u001b[0;32m   1021\u001b[0m     )\n\u001b[0;32m   1023\u001b[0m \u001b[38;5;28;01mif\u001b[39;00m http_error_msg:\n\u001b[1;32m-> 1024\u001b[0m     \u001b[38;5;28;01mraise\u001b[39;00m HTTPError(http_error_msg, response\u001b[38;5;241m=\u001b[39m\u001b[38;5;28mself\u001b[39m)\n",
      "\u001b[1;31mHTTPError\u001b[0m: 400 Client Error: Bad Request for url: https://api.tavily.com/search"
     ]
    }
   ],
   "source": [
    "search_resp = search.search(response)\n",
    "summary = summarizer.chat(search_resp)"
   ]
  },
  {
   "cell_type": "code",
   "execution_count": 22,
   "metadata": {},
   "outputs": [
    {
     "name": "stderr",
     "output_type": "stream",
     "text": [
      "2025-02-08 00:41:41 - INFO - HTTP Request: POST https://api.openai.com/v1/chat/completions \"HTTP/1.1 200 OK\"\n"
     ]
    },
    {
     "name": "stdout",
     "output_type": "stream",
     "text": [
      "\n",
      "Response of chat: \n",
      " Thought: Now that I have all the necessary information about flights and accommodations, I can create an itinerary for the trip to Tokyo, Kyoto, and Osaka with recommendations for each city.\n",
      "\n",
      "Answer: \n",
      "\n",
      "Here is a complete itinerary of your trip from Abu Dhabi to Japan:\n",
      "\n",
      "**Destination Country:** Japan  \n",
      "**Top 3 Cities:** Tokyo, Kyoto, Osaka  \n",
      "**Duration:** 14 days  \n",
      "\n",
      "### Itinerary:\n",
      "\n",
      "### **Day 1-5: Tokyo**  \n",
      "**Hotel Recommendations:**  \n",
      "- Luxury: The Ritz-Carlton Tokyo  \n",
      "- Mid-range: Hotel Sunroute Plaza Shinjuku  \n",
      "- Budget: Khaosan Tokyo Samurai Capsule Hotel  \n",
      "\n",
      "**Activities:**  \n",
      "- Visit Senso-ji Temple and Nakamise Street in Asakusa.  \n",
      "- Experience the energy at Shibuya Crossing and explore Shinjuku.  \n",
      "- Savor breakfast at Tsukiji Outer Market and enjoy tech shopping in Akihabara.  \n",
      "- Admire views from Tokyo Tower and immerse in the Meiji Shrine and Yoyogi Park.  \n",
      "- Shop in Harajuku and enjoy the vibrancy of the city.  \n",
      "\n",
      "### **Day 6-9: Kyoto**  \n",
      "**Hotel Recommendations:**  \n",
      "- Luxury: The Thousand Kyoto  \n",
      "- Mid-range: Hotel Granvia Kyoto  \n",
      "- Budget: Guesthouses starting at AED 113 ($30)  \n",
      "\n",
      "**Activities:**  \n",
      "- Walk through the iconic red torii gates at Fushimi Inari Shrine.  \n",
      "- Delight in a culinary tour at Nishiki Market.  \n",
      "- Discover the traditional charm of Gion District and visit Kinkaku-ji (Golden Pavilion).  \n",
      "- Wander through Arashiyama Bamboo Forest and meet the monkeys at the park.  \n",
      "\n",
      "### **Day 10-14: Osaka**  \n",
      "**Hotel Recommendations:**  \n",
      "- IFM Hotel at AED 500 per night  \n",
      "\n",
      "**Activities:**  \n",
      "- Visit Osaka Castle and engage with local culture at Shinsekai.  \n",
      "- Emerge in the nightlife at Dotonbori.  \n",
      "- Take in thrills at Universal Studios Japan or explore Kuromon Ichiba Market.  \n",
      "- Shop at Umeda or Namba before returning home.  \n",
      "\n",
      "### **Additional Notes:**  \n",
      "- Local Transportation: Consider using a JR Pass for efficient intercity travel.  \n",
      "- Ideal Travel Period: Spring (March-May) or Fall (September-November) for a pleasant climate.  \n",
      "- Estimated Daily Budget Per Person: $100-$200 for food, attractions, and transport.  \n",
      "\n",
      "For flights, the best round-trip option is via Qatar Airways for approximately AED 3,812 ($1,040), offering a comfortable journey to begin your adventure. \n",
      "\n",
      "Have a wonderful trip!\n"
     ]
    }
   ],
   "source": [
    "response = planner.chat(\"Best hotel deals for Osaka is the IFM hotel for 500 AED a night\")"
   ]
  },
  {
   "cell_type": "code",
   "execution_count": null,
   "metadata": {},
   "outputs": [],
   "source": []
  }
 ],
 "metadata": {
  "kernelspec": {
   "display_name": ".venv",
   "language": "python",
   "name": "python3"
  },
  "language_info": {
   "codemirror_mode": {
    "name": "ipython",
    "version": 3
   },
   "file_extension": ".py",
   "mimetype": "text/x-python",
   "name": "python",
   "nbconvert_exporter": "python",
   "pygments_lexer": "ipython3",
   "version": "3.12.9"
  }
 },
 "nbformat": 4,
 "nbformat_minor": 2
}
